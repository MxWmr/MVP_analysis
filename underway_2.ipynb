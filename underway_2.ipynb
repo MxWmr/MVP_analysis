{
 "cells": [
  {
   "cell_type": "code",
   "execution_count": null,
   "id": "5760d963",
   "metadata": {},
   "outputs": [
    {
     "name": "stderr",
     "output_type": "stream",
     "text": [
      "c:\\Users\\maxim\\miniforge3\\envs\\oceanapp\\Lib\\site-packages\\seabird\\cnv.py:3: UserWarning: pkg_resources is deprecated as an API. See https://setuptools.pypa.io/en/latest/pkg_resources.html. The pkg_resources package is slated for removal as early as 2025-11-30. Refrain from using this package or pin to Setuptools<81.\n",
      "  import pkg_resources\n"
     ]
    }
   ],
   "source": [
    "from MVPAnalyzer import Analyzer\n",
    "import numpy as np\n",
    "import matplotlib.pyplot as plt"
   ]
  },
  {
   "cell_type": "code",
   "execution_count": 2,
   "id": "0e7d27a6",
   "metadata": {},
   "outputs": [
    {
     "name": "stdout",
     "output_type": "stream",
     "text": [
      "Found 24 MVP files in the directory: C:/Users/maxim/Documents/INGE CNRS/ESSTECH25/MVP300_DATA/Underway profile/A to B - 4 Knots/\n",
      "MVP data loaded successfully.\n"
     ]
    }
   ],
   "source": [
    "# mvpa = Analyzer('C:/Users/maxim/Documents/INGE CNRS/ESSTECH25/MVP300_DATA/Underway profile/Bbis to Abis - 6 - 6_5 Knots/')\n",
    "mvpa = Analyzer('C:/Users/maxim/Documents/INGE CNRS/ESSTECH25/MVP300_DATA/Underway profile/A to B - 4 Knots/')\n",
    "\n",
    "\n",
    "# Bbis to Abis - 6 - 6_5 Knots\n",
    "# mvpa.load_mvp_data()\n",
    "\n",
    "# A to B - 4 Knots\n",
    "mvpa.load_mvp_data(delp=[8,9,10,11,18,19]) # manually delete profiles because the MVP was stopped and restarted during the cast\n",
    "\n",
    "# Stationary Bathysonde\n",
    "# mvpa.load_ctd_data('C:/Users/maxim/Documents/INGE CNRS/ESSTECH25/BATHYSONDE/DATA/TRAIT/CNV/')\n",
    "\n",
    "\n"
   ]
  },
  {
   "cell_type": "code",
   "execution_count": 3,
   "id": "3a124295",
   "metadata": {},
   "outputs": [
    {
     "name": "stdout",
     "output_type": "stream",
     "text": [
      "Found 9 MVP files in the directory: C:/Users/maxim/Documents/INGE CNRS/ESSTECH25/MVP300_DATA/Underway profile/Abis to Bbis - 6 Knots/\n",
      "MVP data loaded successfully.\n",
      "Found 6 MVP files in the directory: C:/Users/maxim/Documents/INGE CNRS/ESSTECH25/MVP300_DATA/Underway profile/Bbis to Abis - 6 - 6_5 Knots/\n",
      "MVP data loaded successfully.\n"
     ]
    }
   ],
   "source": [
    "mvpa.load_mvp_data_again('C:/Users/maxim/Documents/INGE CNRS/ESSTECH25/MVP300_DATA/Underway profile/Abis to Bbis - 6 Knots/',delp=[6])\n",
    "mvpa.load_mvp_data_again('C:/Users/maxim/Documents/INGE CNRS/ESSTECH25/MVP300_DATA/Underway profile/Bbis to Abis - 6 - 6_5 Knots/')\n",
    "# mvpa.load_mvp_data_again('C:/Users/maxim/Documents/INGE CNRS/ESSTECH25/MVP300_DATA/Stationary Profiling/')"
   ]
  },
  {
   "cell_type": "code",
   "execution_count": null,
   "id": "f50c9983",
   "metadata": {},
   "outputs": [],
   "source": [
    "mvpa.viscous_heating_correction()\n",
    "print('Viscous heating correction done.')\n",
    "mvpa.filtering_surface_waves()\n",
    "print('Surface wave filtering done.')\n",
    "mvpa.temporal_lag_correction(correction=True)\n",
    "print('Temporal lag correction done.')\n",
    "\n",
    "mvpa.thermal_mass_correction(save_param=True,max_depth=200)\n",
    "print('Thermal mass correction done.')\n"
   ]
  },
  {
   "cell_type": "code",
   "execution_count": null,
   "id": "cdc1e81d",
   "metadata": {},
   "outputs": [],
   "source": [
    "%matplotlib tk\n",
    "plt.figure()\n",
    "\n",
    "id = 4\n",
    "plt.plot(mvpa.SALT_align[id],mvpa.PRES0[id],label='MVP corrected down',color='black')\n",
    "plt.plot(mvpa.SALT_align[id+1],mvpa.PRES0[id+1],label='MVP corrected up',color='red')\n",
    "plt.plot(mvpa.SALT_final[id],mvpa.PRES0[id],label='MVP final down',color='blue')\n",
    "plt.plot(mvpa.SALT_final[id+1],mvpa.PRES0[id+1],label='MVP final up',color='orange')\n",
    "plt.gca().invert_yaxis()\n",
    "plt.xlabel('Salinity (PSU)')\n",
    "plt.ylabel('Pressure (dbar)')\n",
    "plt.legend()\n",
    "plt.title('Salinity profiles after corrections')\n",
    "plt.show()"
   ]
  }
 ],
 "metadata": {
  "kernelspec": {
   "display_name": "oceanapp",
   "language": "python",
   "name": "python3"
  },
  "language_info": {
   "codemirror_mode": {
    "name": "ipython",
    "version": 3
   },
   "file_extension": ".py",
   "mimetype": "text/x-python",
   "name": "python",
   "nbconvert_exporter": "python",
   "pygments_lexer": "ipython3",
   "version": "3.11.13"
  }
 },
 "nbformat": 4,
 "nbformat_minor": 5
}
