{
 "cells": [
  {
   "cell_type": "code",
   "execution_count": 1,
   "id": "5760d963",
   "metadata": {},
   "outputs": [
    {
     "name": "stderr",
     "output_type": "stream",
     "text": [
      "/home/maxw/miniconda3/envs/oceanapp/lib/python3.11/site-packages/seabird/cnv.py:3: UserWarning: pkg_resources is deprecated as an API. See https://setuptools.pypa.io/en/latest/pkg_resources.html. The pkg_resources package is slated for removal as early as 2025-11-30. Refrain from using this package or pin to Setuptools<81.\n",
      "  import pkg_resources\n"
     ]
    },
    {
     "name": "stdout",
     "output_type": "stream",
     "text": [
      "Found 24 MVP files in the directory: /home/maxw/Documents/ESSTECH25/MVP300_DATA/Underway profile/A to B - 4 Knots/\n",
      "MVP data loaded successfully.\n",
      "MVP data:\n",
      "Number of profiles: 3\n",
      "  Profil down 0 - Profil up 1 - Latitude: 42.75363, Longitude: 6.17481, Date/Heure: 2025-08-09 13:42:26\n",
      "  Profil down 2 - Profil up 3 - Latitude: 42.72784, Longitude: 6.16614, Date/Heure: 2025-08-09 14:08:17\n",
      "  Profil down 4 - Profil up 5 - Latitude: 42.70016, Longitude: 6.15697, Date/Heure: 2025-08-09 14:35:10\n",
      "Viscous heating correction done.\n",
      "Surface wave filtering done.\n",
      "Temporal lag correction done.\n"
     ]
    }
   ],
   "source": [
    "\n",
    "from MVPAnalyzer import Analyzer\n",
    "import numpy as np\n",
    "import matplotlib.pyplot as plt\n",
    "\n",
    "# mvpa = Analyzer('/home/maxw/Documents/ESSTECH25/MVP300_DATA/Stationary_Profiling/',subdirs=True)\n",
    "mvpa = Analyzer('/home/maxw/Documents/ESSTECH25/MVP300_DATA/Underway profile/A to B - 4 Knots/')\n",
    "\n",
    "# mvpa.help()\n",
    "\n",
    "# mvpa.load_mvp_data() \n",
    "mvpa.load_mvp_data(delp=[8,9,10,11,18,19]) # manually delete profiles because the MVP was stopped and restarted during the cast\n",
    "\n",
    "# mvpa.load_ctd_data('C:/Users/maxim/Documents/INGE CNRS/ESSTECH25/BATHYSONDE/DATA/TRAIT/CNV/')\n",
    "# mvpa.keep_selected_profiles([0, 10, 8, 2], [0, 2, 4, 8])\n",
    "\n",
    "mvpa.keep_selected_profiles([2,4,6])\n",
    "\n",
    "mvpa.print_profile_metadata()\n",
    "\n",
    "mvpa.viscous_heating_correction()\n",
    "print('Viscous heating correction done.')\n",
    "mvpa.filtering_surface_waves()\n",
    "print('Surface wave filtering done.')\n",
    "mvpa.temporal_lag_correction(correction=True)\n",
    "print('Temporal lag correction done.')\n"
   ]
  },
  {
   "cell_type": "code",
   "execution_count": 2,
   "id": "c49f48a8",
   "metadata": {},
   "outputs": [
    {
     "name": "stderr",
     "output_type": "stream",
     "text": [
      "/home/maxw/Documents/ESSTECH25/MVP_simple_routine/MVPAnalyzer/thermal_mass_correction_bis.py:111: RuntimeWarning: invalid value encountered in divide\n",
      "  Gamma_C = gamma_c/N\n",
      "100%|██████████| 3/3 [03:27<00:00, 69.32s/it]\n"
     ]
    },
    {
     "name": "stdout",
     "output_type": "stream",
     "text": [
      "alphat_apres: [-0.09769938         nan  0.00048821         nan -0.28423493         nan], \n",
      " alphac_apres: [ 0. nan  0. nan  0. nan], \n",
      " tau_apres: [20.                 nan  4.                 nan  6.27629915         nan]\n",
      "alphat_avant: [        nan         nan  0.                 nan -0.27291002         nan], \n",
      " alphac_avant: [nan nan  0. nan  0. nan], \n",
      " tau_avant: [       nan        nan 4.                nan 6.74404333        nan]\n",
      "Thermal mass correction done.\n"
     ]
    }
   ],
   "source": [
    "mvpa.thermal_mass_correction(save_param=True,sens_corr='down',var_corr='cond',max_depth=1000)\n",
    "\n",
    "# mvpa.thermal_mass_correction(load_param='param_slow.npy',sens_corr='down',max_depth=1000)\n",
    "print('Thermal mass correction done.')"
   ]
  },
  {
   "cell_type": "code",
   "execution_count": 4,
   "id": "59df6187",
   "metadata": {},
   "outputs": [
    {
     "name": "stderr",
     "output_type": "stream",
     "text": [
      "/tmp/ipykernel_34293/1416685961.py:14: UserWarning: FigureCanvasAgg is non-interactive, and thus cannot be shown\n",
      "  plt.show()\n"
     ]
    }
   ],
   "source": [
    "plt.figure()\n",
    "%matplotlib tk\n",
    "\n",
    "id = 4\n",
    "plt.plot(mvpa.SALT_align[id],mvpa.PRES0[id],label='MVP corrected down',color='black')\n",
    "plt.plot(mvpa.SALT_align[id+1],mvpa.PRES0[id+1],label='MVP corrected up',color='red')\n",
    "plt.plot(mvpa.SALT_final[id],mvpa.PRES0[id],label='MVP final down',color='blue')\n",
    "plt.plot(mvpa.SALT_final[id+1],mvpa.PRES0[id+1],label='MVP final up',color='orange')\n",
    "plt.gca().invert_yaxis()\n",
    "plt.xlabel('Salinity (PSU)')\n",
    "plt.ylabel('Pressure (dbar)')\n",
    "plt.legend()\n",
    "plt.title('Salinity profiles after corrections')\n",
    "plt.show()"
   ]
  }
 ],
 "metadata": {
  "kernelspec": {
   "display_name": "oceanapp",
   "language": "python",
   "name": "python3"
  },
  "language_info": {
   "codemirror_mode": {
    "name": "ipython",
    "version": 3
   },
   "file_extension": ".py",
   "mimetype": "text/x-python",
   "name": "python",
   "nbconvert_exporter": "python",
   "pygments_lexer": "ipython3",
   "version": "3.11.13"
  }
 },
 "nbformat": 4,
 "nbformat_minor": 5
}
